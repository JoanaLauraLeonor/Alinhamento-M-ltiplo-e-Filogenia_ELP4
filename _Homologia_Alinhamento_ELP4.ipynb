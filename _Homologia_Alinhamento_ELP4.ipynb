{
 "cells": [
  {
   "cell_type": "markdown",
   "metadata": {},
   "source": [
    "Homologia_Alinhamento_Sequência_Proteica_ELP4\n",
    "Atenção: Para o código apresentado em baixo sobre a homologia e os alinhamentos relativos à sequência proteica codificada pelo gene ELP4, teve-se em consideração o ficheiro fasta “sequence_ELP4_proteina.fasta”.\n",
    "Para a elaboração do código apresentado, recorreu-se ao tutorial do Biopython e a srcipts sobre a parte da homologia e dos alinhamentos que se encontravam em alguns exercicíos das fichas desta Unidade Curricular, resolvidas por alunos dos anos anteriores. Adaptou-se toda a informação, quer do tutorial quer das scripts ( utilizadas para a resolução dos exercicíos sobre a homologia e os alinhamentos) ao gene de interesse- gene ELP4."
   ]
  },
  {
   "cell_type": "markdown",
   "metadata": {},
   "source": [
    "1.Gravou-se/Abriu-se o ficheiro “sequence_ELP4_proteina.fasta” que contém a sequência da proteína codificada pelo gene ELP4. Carregou-se o ficheiro em formato Fasta e, posteriormente, verificou-se o tamanho da proteína codificada pelo gene ELP4 - proteína que tem 424 aminoácidos.\n",
    "No código apresentado em baixo utilizou-se dois módulos do Biopython: o Bio.Blast e o Bio.SeqIo"
   ]
  },
  {
   "cell_type": "code",
   "execution_count": 1,
   "metadata": {},
   "outputs": [
    {
     "name": "stdout",
     "output_type": "stream",
     "text": [
      "424\n"
     ]
    }
   ],
   "source": [
    "from Bio.Blast import NCBIXML \n",
    "from Bio.Blast import NCBIWWW \n",
    "from Bio import SeqIO\n",
    "from Bio import Entrez\n",
    "Entrez.email = \"joanafigueiredo2014@gmail.com\" \n",
    "seqrecord = SeqIO.read(open(\"sequence_ELP4_proteina.fasta\"), format=\"fasta\")\n",
    "print (len(seqrecord.seq)) \n",
    "#.seq, serve para ir buscar uma sequencia do \"ficheiro dado\" para o ficheiro \"seq\" que por sua vez é novo"
   ]
  },
  {
   "cell_type": "markdown",
   "metadata": {},
   "source": [
    "2.No código apresentado a baixo usou-se novamente o módulo do BioPython:Bio.Blast. Posteriormente, efectou-se uma pesquisa por sequências similares no Blast, usando a base de dados “swissprot”, e gravou-se todas essas sequências num ficheiro XML."
   ]
  },
  {
   "cell_type": "code",
   "execution_count": 2,
   "metadata": {},
   "outputs": [],
   "source": [
    "from Bio.Blast import NCBIWWW \n",
    "#Biopython permite a execução de BLAST usando a função qblast( ) da classe NCBIWWW do módulo Bio.Blast.\n",
    "result_handle = NCBIWWW.qblast(\"blastp\", \"swissprot\", seqrecord.format(\"fasta\"))\n",
    "#A execução de BLAST online pela classe NCBIWWW requer como entrada a versão do BLAST utilizada para busca \n",
    "#(blastn, blastp, blastx ou tblastn), além da base de dados, a sequência armazenada no objeto que recebeu o arquivo FASTA de \n",
    "#busca e um tipo de formato para saída dos dados.\n",
    "save_file = open(\"blast_ELP4.xml\", \"w\") #'w' permite escrever no ficheiro  e \".xml\" permite gravar o ficheiro nesse tipo\n",
    "save_file.write(result_handle.read())\n",
    "save_file.close()\n",
    "result_handle.close()"
   ]
  },
  {
   "cell_type": "markdown",
   "metadata": {},
   "source": [
    "3.Realize o parsing do ficheiro anterior com as funções do BioPython. Analise os parâmetros globais da pesquisa, verificando: a base de dados usada, a matriz de substituição e os parâmetros para os espaçamentos."
   ]
  },
  {
   "cell_type": "code",
   "execution_count": 3,
   "metadata": {},
   "outputs": [
    {
     "name": "stdout",
     "output_type": "stream",
     "text": [
      "PARAMETERS:\n",
      "Database: swissprot_v5\n",
      "Matrix: BLOSUM62\n",
      "Gap penalties:  (11, 1)\n"
     ]
    }
   ],
   "source": [
    "from Bio.Blast import NCBIXML \n",
    "result_handle = open(\"blast_ELP4.xml\") #abrir o ficheiro anterior\n",
    "record = NCBIXML.read(result_handle) #faz o parsing\n",
    "print (\"PARAMETERS:\")    #print permite depois fazer a verificação do que é pedido\n",
    "print (\"Database: \" + record.database)\n",
    "print (\"Matrix: \" + record.matrix)\n",
    "print (\"Gap penalties: \", record.gap_penalties)\n",
    "\n",
    "#parsing de um ficheiro é ler o \"valor de um objeto e converte-lo num outro tipo de objeto\""
   ]
  },
  {
   "cell_type": "markdown",
   "metadata": {},
   "source": [
    "4.Identificou-se a lista de accession numbers, os e-values e os comprimentos do alinhamento para todos os alinhamentos devolvidos pela pesquisa anterior."
   ]
  },
  {
   "cell_type": "code",
   "execution_count": 4,
   "metadata": {},
   "outputs": [
    {
     "name": "stdout",
     "output_type": "stream",
     "text": [
      "number hits: 24\n",
      "E-values and length of alignments:\n",
      "Q96EB1-0.0length:424\n",
      "Q2TBH6-0.0length:424\n",
      "Q9ER73-0.0length:424\n",
      "Q5XG58-1.66686e-174length:425\n",
      "Q566Y1-4.56251e-159length:415\n",
      "Q54XS0-7.91523e-44length:367\n",
      "Q9VMQ7-1.71666e-32length:176\n",
      "Q60ZM2-1.83272e-24length:353\n",
      "Q18195-5.60172e-21length:354\n",
      "Q9C778-1.99511e-18length:334\n",
      "Q9USP1-3.12621e-13length:378\n",
      "Q02884-5.02019e-11length:394\n",
      "Q0BUQ6-0.330243length:173\n",
      "Q8VBT9-0.697831length:69\n",
      "Q8YT40-1.32702length:89\n",
      "O66827-1.55709length:62\n",
      "Q8VL13-1.89557length:89\n",
      "Q9P217-2.09528length:232\n",
      "Q6L8L5-2.51677length:89\n",
      "Q6L8L1-2.72948length:94\n",
      "Q7V5W7-4.30641length:93\n",
      "Q9BZE9-4.65703length:53\n",
      "P81415-4.83998length:36\n",
      "Q8GGL1-5.22927length:89\n"
     ]
    }
   ],
   "source": [
    "#accession numbers - identificador único dado a uma sequência de polímero biológico (DNA, proteína)\n",
    "#quando é submetido a um banco de dados de sequências\n",
    "# e-value - probabilidade de alinhamento aleatório: \n",
    "#(cálculo estatístico- baseado na qualidade do alinhamento (a pontuação) e no tamanho do banco de dados.)\n",
    "\n",
    "nhits = len (record.alignments)\n",
    "print(\"number hits:\",nhits)\n",
    "res = [] \n",
    "for alignment in record.alignments:\n",
    "    evalue= alignment.hsps[0].expect\n",
    "    accession = alignment.accession\n",
    "    leng = alignment.hsps[0].align_length\n",
    "    res.append (accession + \"-\" + str(evalue) + \"length:\" + str(leng))\n",
    "    \n",
    "print (\"E-values and length of alignments:\")\n",
    "for s in res: print(s)"
   ]
  },
  {
   "cell_type": "markdown",
   "metadata": {},
   "source": [
    "5.Repetiu-se o processo de Blast mencionado em cima mas agora restringindo a pesquisa ao organismo \"Homo Sapiens\" (na função qblast usou-se o argumento entrez_query = \"Homo Sapiens[organism]\") e gravou-se os resultados desse alinhamento.\n",
    "O procedimento é repetido para o  e os resultados são novamente guardados em ficheiro .xml."
   ]
  },
  {
   "cell_type": "code",
   "execution_count": 5,
   "metadata": {},
   "outputs": [],
   "source": [
    "#blast para Homo Sapiens apenas\n",
    "result_handle2 = NCBIWWW.qblast(\"blastp\", \"swissprot\", seqrecord.format(\"fasta\"), entrez_query = \"Homo sapiens[organism]\" )\n",
    "save_file = open(\"blast_ELP4.xml\", \"w\")\n",
    "save_file.write(result_handle2.read()) \n",
    "save_file.close() \n",
    "result_handle2.close()"
   ]
  },
  {
   "cell_type": "markdown",
   "metadata": {},
   "source": [
    "6.Analisou-se os resultados obtidos no ponto anterior - ponto 5, nomeadamente o alinhamento com menor e-value (primeiro resultado da lista). Identificou-se também o accession (registo da Uniprot da sequência obtida), a sua descrição e o número de HSPs. \n",
    "Verificou-se o alinhamento obtido para cada HSP, verificando também o início do HSP na query e na sequência que é homóloga(sbjct). Na estrutura de um HSP também se tem acesso aos atributos query_start e sbjct_start."
   ]
  },
  {
   "cell_type": "code",
   "execution_count": 6,
   "metadata": {},
   "outputs": [
    {
     "name": "stdout",
     "output_type": "stream",
     "text": [
      "Accession: Q96EB1\n",
      "Hit id: sp|Q96EB1.2|\n",
      "Definition: RecName: Full=Elongator complex protein 4; Short=hELP4; AltName: Full=PAX6 neighbor gene protein [Homo sapiens]\n",
      "Number of HSPs:  1\n",
      "E-value:  0.0\n",
      "Length:  424\n",
      "Identities:  424\n",
      "Query start:  1\n",
      "Sbjct start:  1\n",
      "MAAVATCGSVAASTGSAVATASKSNVTSFQRRGPRASVTNDSGPRLVSIAGTRPSVRNGQLLVSTGLPALDQLLGGGLAVGTVLLIEEDK\n",
      "MAAVATCGSVAASTGSAVATASKSNVTSFQRRGPRASVTNDSGPRLVSIAGTRPSVRNGQLLVSTGLPALDQLLGGGLAVGTVLLIEEDK\n",
      "MAAVATCGSVAASTGSAVATASKSNVTSFQRRGPRASVTNDSGPRLVSIAGTRPSVRNGQLLVSTGLPALDQLLGGGLAVGTVLLIEEDK\n"
     ]
    }
   ],
   "source": [
    "#análise dos resultados\n",
    "from Bio.Blast import NCBIXML\n",
    "result_handle2 = open(\"blast_ELP4.xml\")\n",
    "record2 = NCBIXML.read(result_handle2)\n",
    "first_alignment = record2.alignments[0]\n",
    "print (\"Accession: \" + first_alignment.accession)\n",
    "print (\"Hit id: \" + first_alignment.hit_id)\n",
    "print (\"Definition: \" + first_alignment.hit_def)\n",
    "print (\"Number of HSPs: \", len(first_alignment.hsps))\n",
    "for hsp in first_alignment.hsps:\n",
    "    print (\"E-value: \", hsp.expect)\n",
    "    print (\"Length: \", hsp.align_length)\n",
    "    print (\"Identities: \", hsp.identities)\n",
    "    print (\"Query start: \", hsp.query_start)\n",
    "    print (\"Sbjct start: \", hsp.sbjct_start)\n",
    "    print (hsp.query[0:90])\n",
    "    print (hsp.match[0:90])\n",
    "    print (hsp.sbjct[0:90])"
   ]
  },
  {
   "cell_type": "markdown",
   "metadata": {},
   "source": [
    "Os passos 1,2 e 4 permitem obter todas as sequências homólogas à sequência da proteína codificada pelo gene ELP4 com base na base de dados Swissprot. Estas sequências, posteriormente, no seu formato fasta, podem funcionar como input em programas que efetuam o alinhamento de sequências e a contrução de árvores filogenéticas como o MEGAX. Foi este o programa utilizado por nós para a elaboração do alinhamento e da filogenia."
   ]
  }
 ],
 "metadata": {
  "kernelspec": {
   "display_name": "Python 3",
   "language": "python",
   "name": "python3"
  },
  "language_info": {
   "codemirror_mode": {
    "name": "ipython",
    "version": 3
   },
   "file_extension": ".py",
   "mimetype": "text/x-python",
   "name": "python",
   "nbconvert_exporter": "python",
   "pygments_lexer": "ipython3",
   "version": "3.7.3"
  }
 },
 "nbformat": 4,
 "nbformat_minor": 2
}
